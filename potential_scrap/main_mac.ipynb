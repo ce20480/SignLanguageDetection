{
 "cells": [
  {
   "cell_type": "markdown",
   "metadata": {},
   "source": [
    "## Imports:"
   ]
  },
  {
   "cell_type": "code",
   "execution_count": 2,
   "metadata": {},
   "outputs": [],
   "source": [
    "import pandas as pd\n",
    "import numpy as np\n",
    "import matplotlib.pyplot as plt\n",
    "from Create_Dataset import create_dataset"
   ]
  },
  {
   "cell_type": "markdown",
   "metadata": {},
   "source": [
    "## Reading the data"
   ]
  },
  {
   "cell_type": "code",
   "execution_count": 9,
   "metadata": {},
   "outputs": [
    {
     "ename": "FileNotFoundError",
     "evalue": "[Errno 2] No such file or directory: '.:W/data'",
     "output_type": "error",
     "traceback": [
      "\u001b[0;31m---------------------------------------------------------------------------\u001b[0m",
      "\u001b[0;31mFileNotFoundError\u001b[0m                         Traceback (most recent call last)",
      "\u001b[1;32m/Users/aaronvinod/Documents/GitHub/SignLanguageDetection/main_mac.ipynb Cell 4\u001b[0m in \u001b[0;36m<cell line: 2>\u001b[0;34m()\u001b[0m\n\u001b[1;32m      <a href='vscode-notebook-cell:/Users/aaronvinod/Documents/GitHub/SignLanguageDetection/main_mac.ipynb#W3sZmlsZQ%3D%3D?line=0'>1</a>\u001b[0m data \u001b[39m=\u001b[39m \u001b[39m'\u001b[39m\u001b[39m.:W/data\u001b[39m\u001b[39m'\u001b[39m\n\u001b[0;32m----> <a href='vscode-notebook-cell:/Users/aaronvinod/Documents/GitHub/SignLanguageDetection/main_mac.ipynb#W3sZmlsZQ%3D%3D?line=1'>2</a>\u001b[0m x_train, x_test, y_train, y_test, d \u001b[39m=\u001b[39m create_dataset(data)\n",
      "File \u001b[0;32m~/Documents/GitHub/SignLanguageDetection/Create_Dataset.py:36\u001b[0m, in \u001b[0;36mcreate_dataset\u001b[0;34m(img_folder)\u001b[0m\n\u001b[1;32m     32\u001b[0m im \u001b[39m=\u001b[39m [] \u001b[39m#List of image values\u001b[39;00m\n\u001b[1;32m     33\u001b[0m class_name \u001b[39m=\u001b[39m []\u001b[39m#Corresponding one hot class\u001b[39;00m\n\u001b[0;32m---> 36\u001b[0m \u001b[39mfor\u001b[39;00m sub_folder \u001b[39min\u001b[39;00m listdir_nohidden(img_folder): \u001b[39m#Gets each folder within data folder\u001b[39;00m\n\u001b[1;32m     37\u001b[0m     \u001b[39mfor\u001b[39;00m file \u001b[39min\u001b[39;00m listdir_nohidden(os\u001b[39m.\u001b[39mpath\u001b[39m.\u001b[39mjoin(img_folder,sub_folder)): \u001b[39m#Gets 'file' i.e. individual image in folder\u001b[39;00m\n\u001b[1;32m     39\u001b[0m         image \u001b[39m=\u001b[39m cv2\u001b[39m.\u001b[39mimread(os\u001b[39m.\u001b[39mpath\u001b[39m.\u001b[39mjoin(img_folder,sub_folder,file)) \u001b[39m#read image\u001b[39;00m\n",
      "File \u001b[0;32m~/Documents/GitHub/SignLanguageDetection/Create_Dataset.py:25\u001b[0m, in \u001b[0;36mlistdir_nohidden\u001b[0;34m(path)\u001b[0m\n\u001b[1;32m     24\u001b[0m \u001b[39mdef\u001b[39;00m \u001b[39mlistdir_nohidden\u001b[39m(path): \u001b[39m#Removes any path that has a . at the front (directory cleanup)\u001b[39;00m\n\u001b[0;32m---> 25\u001b[0m     \u001b[39mfor\u001b[39;00m f \u001b[39min\u001b[39;00m os\u001b[39m.\u001b[39;49mlistdir(path):\n\u001b[1;32m     26\u001b[0m         \u001b[39mif\u001b[39;00m \u001b[39mnot\u001b[39;00m f\u001b[39m.\u001b[39mstartswith(\u001b[39m'\u001b[39m\u001b[39m.\u001b[39m\u001b[39m'\u001b[39m):\n\u001b[1;32m     27\u001b[0m             \u001b[39myield\u001b[39;00m f\n",
      "\u001b[0;31mFileNotFoundError\u001b[0m: [Errno 2] No such file or directory: '.:W/data'"
     ]
    }
   ],
   "source": [
    "data = './data'\n",
    "x_train, x_test, y_train, y_test, d = create_dataset(data)"
   ]
  },
  {
   "cell_type": "markdown",
   "metadata": {},
   "source": [
    "## EDA - Exploratory Data Analysis"
   ]
  },
  {
   "cell_type": "code",
   "execution_count": null,
   "metadata": {},
   "outputs": [],
   "source": [
    "img = cv.imread(x_train[0].astype(np.uint8))\n"
   ]
  },
  {
   "cell_type": "markdown",
   "metadata": {},
   "source": [
    "## Training  - CNN"
   ]
  },
  {
   "cell_type": "code",
   "execution_count": null,
   "metadata": {},
   "outputs": [],
   "source": []
  },
  {
   "cell_type": "markdown",
   "metadata": {},
   "source": [
    "## Testing and Evaluation"
   ]
  },
  {
   "cell_type": "markdown",
   "metadata": {},
   "source": [
    "## OpenCV and using computor vision"
   ]
  },
  {
   "cell_type": "markdown",
   "metadata": {},
   "source": []
  }
 ],
 "metadata": {
  "kernelspec": {
   "display_name": "Python 3",
   "language": "python",
   "name": "python3"
  },
  "language_info": {
   "codemirror_mode": {
    "name": "ipython",
    "version": 3
   },
   "file_extension": ".py",
   "mimetype": "text/x-python",
   "name": "python",
   "nbconvert_exporter": "python",
   "pygments_lexer": "ipython3",
   "version": "3.10.4"
  }
 },
 "nbformat": 4,
 "nbformat_minor": 2
}
